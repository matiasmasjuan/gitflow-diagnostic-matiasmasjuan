{
 "cells": [
  {
   "cell_type": "markdown",
   "metadata": {},
   "source": [
    "# Diagnostico Git-Gitflow IIC2154-S4\n",
    "### Matías Masjuan\n",
    "### 18639399"
   ]
  },
  {
   "cell_type": "markdown",
   "metadata": {},
   "source": [
    "### Librerías e importaciones"
   ]
  },
  {
   "cell_type": "code",
   "execution_count": 1,
   "metadata": {},
   "outputs": [],
   "source": [
    "# Librerías importadas:\n",
    "\n",
    "import pandas as pd\n",
    "import re\n",
    "import sys"
   ]
  },
  {
   "cell_type": "markdown",
   "metadata": {},
   "source": [
    "#### 1) Top 10 *tweets* más *retweeted*"
   ]
  },
  {
   "cell_type": "code",
   "execution_count": 2,
   "metadata": {},
   "outputs": [],
   "source": [
    "def top_ten_retweeted(dataframe):\n",
    "    top_ten_retweeted_df = dataframe.sort_values(\"retweetCount\", ascending=False).head(10)\n",
    "    display(top_ten_retweeted_df)"
   ]
  },
  {
   "cell_type": "markdown",
   "metadata": {},
   "source": [
    "#### 2) Top 10 usuarios con más *tweets* emitidos"
   ]
  },
  {
   "cell_type": "code",
   "execution_count": 3,
   "metadata": {},
   "outputs": [],
   "source": [
    "def top_ten_users_with_most_tweets(dataframe):\n",
    "    dataframe['count'] = dataframe.groupby('displayname')['displayname'].transform('count')\n",
    "    df_users = dataframe[['displayname', 'count']].drop_duplicates()\n",
    "    top_ten_users_with_most_tweets_df = df_users.sort_values('count', ascending=False).head(10)\n",
    "    display(top_ten_users_with_most_tweets_df)"
   ]
  },
  {
   "cell_type": "markdown",
   "metadata": {},
   "source": [
    "#### 3) Top 10 días con más tweets"
   ]
  },
  {
   "cell_type": "code",
   "execution_count": 4,
   "metadata": {},
   "outputs": [],
   "source": [
    "def top_ten_days_with_most_tweets(dataframe):\n",
    "    dataframe['date_by_day'] = dataframe['date'].dt.strftime('%Y-%m-%d')\n",
    "    dataframe['count'] = dataframe.groupby('date_by_day')['date_by_day'].transform('count')\n",
    "    df_dates = dataframe[['date_by_day', 'count']].drop_duplicates()\n",
    "    top_ten_days_with_most_tweets_df = df_dates.sort_values('count', ascending=False).head(10)\n",
    "    display(top_ten_days_with_most_tweets_df)"
   ]
  },
  {
   "cell_type": "markdown",
   "metadata": {},
   "source": [
    "#### 4) Top 10 *hashtags* más usados"
   ]
  },
  {
   "cell_type": "code",
   "execution_count": 5,
   "metadata": {},
   "outputs": [],
   "source": [
    "def top_ten_most_used_hashtags(dataframe):\n",
    "    dataframe['hashtags'] = dataframe['content'].apply(lambda x: re.findall('#\\w+', x))\n",
    "    df_hashtags = pd.DataFrame()\n",
    "    df_hashtags['hashtags'] = dataframe['hashtags'].explode('hastahgs')\n",
    "    df_hashtags['amount'] = df_hashtags.groupby('hashtags')['hashtags'].transform('count')\n",
    "    df_hashtags = df_hashtags.drop_duplicates().sort_values('amount', ascending=False).head(10)\n",
    "    display(df_hashtags)\n",
    "    "
   ]
  },
  {
   "cell_type": "markdown",
   "metadata": {},
   "source": [
    "### Función main"
   ]
  },
  {
   "cell_type": "code",
   "execution_count": 6,
   "metadata": {},
   "outputs": [],
   "source": [
    "def main():\n",
    "    \n",
    "    print('Cargando datos...')\n",
    "    \n",
    "    '''Función que printea el menú de opciones'''\n",
    "    def print_menu():\n",
    "        print('*** Menú Principal ***')\n",
    "        print(f'[1] Mostrar top 10 tweets más retweeteados')\n",
    "        print(f'[2] Mostrar top 10 usuarios con más tweets emitidos')\n",
    "        print(f'[3] Mostrar top 10 días con más tweets')\n",
    "        print(f'[4] Mostrar top 10 hashtags más utilizados')\n",
    "        print(f'[0] Salir\\n')\n",
    "        print(f'Ingrese su opción (1, 2, 3, 4 o 0): ')\n",
    "    \n",
    "    \n",
    "    '''\n",
    "    Se crea el DataFrame limpiando datos y columnas\n",
    "    '''\n",
    "    filename = 'farmers-protest-tweets-2021-03-5.json'\n",
    "    df = pd.read_json(filename, lines=True)\n",
    "    df['displayname'] = df['user'].apply(lambda x: x['displayname'])\n",
    "    df = df.drop([\n",
    "    'user',\n",
    "    'outlinks',\n",
    "    'tcooutlinks',\n",
    "    'replyCount',\n",
    "    'quoteCount',\n",
    "    'media',\n",
    "    'retweetedTweet',\n",
    "    'quotedTweet',\n",
    "    'mentionedUsers'], 1)\n",
    "    \n",
    "    \n",
    "    '''Flujo principal'''\n",
    "\n",
    "    finish_program = False\n",
    "    while not finish_program:\n",
    "        \n",
    "        print_menu()\n",
    "        selected_input = input()\n",
    "        \n",
    "        if selected_input == '1':\n",
    "            top_ten_retweeted(df)\n",
    "            \n",
    "        elif selected_input == '2':\n",
    "            top_ten_users_with_most_tweets(df)\n",
    "        \n",
    "        elif selected_input == '3':\n",
    "            top_ten_days_with_most_tweets(df)\n",
    "        \n",
    "        elif selected_input == '4':\n",
    "            top_ten_most_used_hashtags(df)\n",
    "        \n",
    "        elif selected_input == '0':\n",
    "            finish_program = True\n",
    "        \n",
    "        else:\n",
    "            print('Opción no válida')\n",
    "        "
   ]
  },
  {
   "cell_type": "markdown",
   "metadata": {},
   "source": [
    "# Main a ejecutar:"
   ]
  },
  {
   "cell_type": "code",
   "execution_count": null,
   "metadata": {},
   "outputs": [],
   "source": [
    "if __name__ == '__main__':\n",
    "    main()"
   ]
  }
 ],
 "metadata": {
  "interpreter": {
   "hash": "916dbcbb3f70747c44a77c7bcd40155683ae19c65e1c03b4aa3499c5328201f1"
  },
  "kernelspec": {
   "display_name": "Python 3",
   "language": "python",
   "name": "python3"
  },
  "language_info": {
   "codemirror_mode": {
    "name": "ipython",
    "version": 3
   },
   "file_extension": ".py",
   "mimetype": "text/x-python",
   "name": "python",
   "nbconvert_exporter": "python",
   "pygments_lexer": "ipython3",
   "version": "3.8.10"
  }
 },
 "nbformat": 4,
 "nbformat_minor": 2
}
